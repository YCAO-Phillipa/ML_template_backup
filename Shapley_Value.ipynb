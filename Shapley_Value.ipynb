{
 "cells": [
  {
   "cell_type": "code",
   "execution_count": 8,
   "id": "4d61e5ac",
   "metadata": {},
   "outputs": [
    {
     "ename": "SyntaxError",
     "evalue": "invalid syntax (194056872.py, line 2)",
     "output_type": "error",
     "traceback": [
      "\u001b[1;36m  Cell \u001b[1;32mIn[8], line 2\u001b[1;36m\u001b[0m\n\u001b[1;33m    python -m ensurepip --default-pip\u001b[0m\n\u001b[1;37m              ^\u001b[0m\n\u001b[1;31mSyntaxError\u001b[0m\u001b[1;31m:\u001b[0m invalid syntax\n"
     ]
    }
   ],
   "source": [
    "#Install shap\n",
    "pip install shap #do it in the anaconda prompt cuz it's a command"
   ]
  },
  {
   "cell_type": "code",
   "execution_count": 9,
   "id": "afa731ca",
   "metadata": {},
   "outputs": [],
   "source": [
    "# Import packages\n",
    "import pandas as pd\n",
    "from sklearn.ensemble import RandomForestRegressor\n",
    "import shap"
   ]
  },
  {
   "cell_type": "code",
   "execution_count": 10,
   "id": "85d53d31",
   "metadata": {},
   "outputs": [],
   "source": [
    "# Load data\n",
    "df = pd.read_csv('全国.csv', encoding='gbk')\n",
    "\n",
    "# Convert the relevant columns to categorical data type\n",
    "df['Number'] = df['Number'].astype('category')\n",
    "df['Season'] = df['Season'].astype('category')\n",
    "df['Treating_Process'] = df['Treating_Process'].astype('category')\n",
    "df['Phosphorus_Removing_Agents'] = df['Phosphorus_Removing_Agents'].astype('category')\n",
    "df['Carbon_Source'] = df['Carbon_Source'].astype('category')\n",
    "df['City'] = df['City'].astype('category')\n",
    "\n",
    "# Get the column names\n",
    "column_names = df.columns"
   ]
  },
  {
   "cell_type": "code",
   "execution_count": 11,
   "id": "c698bc92",
   "metadata": {},
   "outputs": [],
   "source": [
    "# Fit the model\n",
    "# Variables to use as X\n",
    "Names_X = [\n",
    "    'CODin', 'CODrem',\n",
    "    'BODin/CODin', 'BODrem',\n",
    "    'NH3-Nin', 'NH3-Nrem',\n",
    "    'SSin', 'SSrem',\n",
    "    'TNin', 'TNrem',\n",
    "    'TPin', 'TPrem',\n",
    "    'Season',\n",
    "    'MonthVolume',\n",
    "    'Carbon_Source',\n",
    "    'Mass_Carbon_Source(kg/m3)',\n",
    "    'Phosphorus_Removing_Agents',\n",
    "    'Mass_Phosphorus_Removing_Agents(kg/m3)',\n",
    "    'Treating_Process',\n",
    "    'City',\n",
    "]\n",
    "# Variable to use as y\n",
    "Names_y = 'DS(kg/m3)'\n",
    "\n",
    "# Define X and y\n",
    "X = df[Names_X]\n",
    "y = df[Names_y]"
   ]
  },
  {
   "cell_type": "code",
   "execution_count": 12,
   "id": "aaefa9ef",
   "metadata": {},
   "outputs": [
    {
     "data": {
      "text/html": [
       "<style>#sk-container-id-1 {color: black;}#sk-container-id-1 pre{padding: 0;}#sk-container-id-1 div.sk-toggleable {background-color: white;}#sk-container-id-1 label.sk-toggleable__label {cursor: pointer;display: block;width: 100%;margin-bottom: 0;padding: 0.3em;box-sizing: border-box;text-align: center;}#sk-container-id-1 label.sk-toggleable__label-arrow:before {content: \"▸\";float: left;margin-right: 0.25em;color: #696969;}#sk-container-id-1 label.sk-toggleable__label-arrow:hover:before {color: black;}#sk-container-id-1 div.sk-estimator:hover label.sk-toggleable__label-arrow:before {color: black;}#sk-container-id-1 div.sk-toggleable__content {max-height: 0;max-width: 0;overflow: hidden;text-align: left;background-color: #f0f8ff;}#sk-container-id-1 div.sk-toggleable__content pre {margin: 0.2em;color: black;border-radius: 0.25em;background-color: #f0f8ff;}#sk-container-id-1 input.sk-toggleable__control:checked~div.sk-toggleable__content {max-height: 200px;max-width: 100%;overflow: auto;}#sk-container-id-1 input.sk-toggleable__control:checked~label.sk-toggleable__label-arrow:before {content: \"▾\";}#sk-container-id-1 div.sk-estimator input.sk-toggleable__control:checked~label.sk-toggleable__label {background-color: #d4ebff;}#sk-container-id-1 div.sk-label input.sk-toggleable__control:checked~label.sk-toggleable__label {background-color: #d4ebff;}#sk-container-id-1 input.sk-hidden--visually {border: 0;clip: rect(1px 1px 1px 1px);clip: rect(1px, 1px, 1px, 1px);height: 1px;margin: -1px;overflow: hidden;padding: 0;position: absolute;width: 1px;}#sk-container-id-1 div.sk-estimator {font-family: monospace;background-color: #f0f8ff;border: 1px dotted black;border-radius: 0.25em;box-sizing: border-box;margin-bottom: 0.5em;}#sk-container-id-1 div.sk-estimator:hover {background-color: #d4ebff;}#sk-container-id-1 div.sk-parallel-item::after {content: \"\";width: 100%;border-bottom: 1px solid gray;flex-grow: 1;}#sk-container-id-1 div.sk-label:hover label.sk-toggleable__label {background-color: #d4ebff;}#sk-container-id-1 div.sk-serial::before {content: \"\";position: absolute;border-left: 1px solid gray;box-sizing: border-box;top: 0;bottom: 0;left: 50%;z-index: 0;}#sk-container-id-1 div.sk-serial {display: flex;flex-direction: column;align-items: center;background-color: white;padding-right: 0.2em;padding-left: 0.2em;position: relative;}#sk-container-id-1 div.sk-item {position: relative;z-index: 1;}#sk-container-id-1 div.sk-parallel {display: flex;align-items: stretch;justify-content: center;background-color: white;position: relative;}#sk-container-id-1 div.sk-item::before, #sk-container-id-1 div.sk-parallel-item::before {content: \"\";position: absolute;border-left: 1px solid gray;box-sizing: border-box;top: 0;bottom: 0;left: 50%;z-index: -1;}#sk-container-id-1 div.sk-parallel-item {display: flex;flex-direction: column;z-index: 1;position: relative;background-color: white;}#sk-container-id-1 div.sk-parallel-item:first-child::after {align-self: flex-end;width: 50%;}#sk-container-id-1 div.sk-parallel-item:last-child::after {align-self: flex-start;width: 50%;}#sk-container-id-1 div.sk-parallel-item:only-child::after {width: 0;}#sk-container-id-1 div.sk-dashed-wrapped {border: 1px dashed gray;margin: 0 0.4em 0.5em 0.4em;box-sizing: border-box;padding-bottom: 0.4em;background-color: white;}#sk-container-id-1 div.sk-label label {font-family: monospace;font-weight: bold;display: inline-block;line-height: 1.2em;}#sk-container-id-1 div.sk-label-container {text-align: center;}#sk-container-id-1 div.sk-container {/* jupyter's `normalize.less` sets `[hidden] { display: none; }` but bootstrap.min.css set `[hidden] { display: none !important; }` so we also need the `!important` here to be able to override the default hidden behavior on the sphinx rendered scikit-learn.org. See: https://github.com/scikit-learn/scikit-learn/issues/21755 */display: inline-block !important;position: relative;}#sk-container-id-1 div.sk-text-repr-fallback {display: none;}</style><div id=\"sk-container-id-1\" class=\"sk-top-container\"><div class=\"sk-text-repr-fallback\"><pre>RandomForestRegressor(min_samples_leaf=5, n_estimators=400, random_state=0)</pre><b>In a Jupyter environment, please rerun this cell to show the HTML representation or trust the notebook. <br />On GitHub, the HTML representation is unable to render, please try loading this page with nbviewer.org.</b></div><div class=\"sk-container\" hidden><div class=\"sk-item\"><div class=\"sk-estimator sk-toggleable\"><input class=\"sk-toggleable__control sk-hidden--visually\" id=\"sk-estimator-id-1\" type=\"checkbox\" checked><label for=\"sk-estimator-id-1\" class=\"sk-toggleable__label sk-toggleable__label-arrow\">RandomForestRegressor</label><div class=\"sk-toggleable__content\"><pre>RandomForestRegressor(min_samples_leaf=5, n_estimators=400, random_state=0)</pre></div></div></div></div></div>"
      ],
      "text/plain": [
       "RandomForestRegressor(min_samples_leaf=5, n_estimators=400, random_state=0)"
      ]
     },
     "execution_count": 12,
     "metadata": {},
     "output_type": "execute_result"
    }
   ],
   "source": [
    "model_rf_final = RandomForestRegressor(min_samples_leaf=5, n_estimators=400,random_state=0)\n",
    "model_rf_final.fit(X, y)"
   ]
  },
  {
   "cell_type": "code",
   "execution_count": 13,
   "id": "6f071e2d",
   "metadata": {},
   "outputs": [],
   "source": [
    "Shap_Value = shap.TreeExplainer(model_rf_final).shap_values(X)"
   ]
  },
  {
   "cell_type": "code",
   "execution_count": 15,
   "id": "cc15e029",
   "metadata": {},
   "outputs": [
    {
     "name": "stdout",
     "output_type": "stream",
     "text": [
      "        CODin   CODrem  BODin/CODin   BODrem  NH3-Nin  NH3-Nrem     SSin  \\\n",
      "0     0.17900  0.14940     0.402235  0.06790  0.01823   0.01774  0.16200   \n",
      "1     0.19200  0.16390     0.390625  0.07110  0.01852   0.01786  0.14800   \n",
      "2     0.19200  0.16270     0.375000  0.06760  0.02037   0.01818  0.14700   \n",
      "3     0.17000  0.14310     0.382353  0.06130  0.01646   0.01496  0.14300   \n",
      "4     0.16100  0.13090     0.366460  0.05450  0.01736   0.01570  0.14900   \n",
      "...       ...      ...          ...      ...      ...       ...      ...   \n",
      "6652  0.27373  0.25847     0.306397  0.07905  0.01904   0.01861  0.14124   \n",
      "6653  0.24316  0.22875     0.340763  0.07852  0.01868   0.01847  0.15647   \n",
      "6654  0.30254  0.28568     0.314934  0.08991  0.02104   0.02062  0.16821   \n",
      "6655  0.33908  0.32663     0.328035  0.10690  0.01751   0.01720  0.15445   \n",
      "6656  0.27059  0.25737     0.323959  0.08357  0.01696   0.01664  0.13972   \n",
      "\n",
      "        SSrem     TNin    TNrem     TPin    TPrem Season  MonthVolume  \\\n",
      "0     0.15600  0.02427  0.01894  0.00267  0.00254      4       628.00   \n",
      "1     0.14200  0.02525  0.02005  0.00305  0.00284      4       681.00   \n",
      "2     0.14000  0.02611  0.01980  0.00290  0.00272      2       875.00   \n",
      "3     0.13600  0.02211  0.01604  0.00228  0.00214      2       962.10   \n",
      "4     0.14200  0.02313  0.01701  0.00238  0.00228      3      1059.18   \n",
      "...       ...      ...      ...      ...      ...    ...          ...   \n",
      "6652  0.13631  0.02965  0.01694  0.00317  0.00302      3        86.09   \n",
      "6653  0.14982  0.03134  0.01904  0.00346  0.00337      3        82.69   \n",
      "6654  0.16117  0.03491  0.02236  0.00396  0.00387      4        67.49   \n",
      "6655  0.14938  0.03084  0.02295  0.00442  0.00429      2        84.74   \n",
      "6656  0.13511  0.03001  0.02003  0.00461  0.00446      2        93.37   \n",
      "\n",
      "     Carbon_Source  Mass_Carbon_Source(kg/m3) Phosphorus_Removing_Agents  \\\n",
      "0                0                   0.000000                          0   \n",
      "1                0                   0.000000                          0   \n",
      "2                0                   0.000000                          0   \n",
      "3                0                   0.000000                          0   \n",
      "4                0                   0.000000                          0   \n",
      "...            ...                        ...                        ...   \n",
      "6652             2                   0.016594                          2   \n",
      "6653             2                   0.021311                          2   \n",
      "6654             2                   0.017867                          2   \n",
      "6655             2                   0.003680                          2   \n",
      "6656             2                   0.005089                          2   \n",
      "\n",
      "      Mass_Phosphorus_Removing_Agents(kg/m3) Treating_Process City  \n",
      "0                                   0.000000                5   45  \n",
      "1                                   0.000000                5   45  \n",
      "2                                   0.000000                5   45  \n",
      "3                                   0.000000                5   45  \n",
      "4                                   0.000000                5   45  \n",
      "...                                      ...              ...  ...  \n",
      "6652                                0.001187               22  240  \n",
      "6653                                0.001362               22  240  \n",
      "6654                                0.002284               22  240  \n",
      "6655                                0.002836               22  240  \n",
      "6656                                0.002081               22  240  \n",
      "\n",
      "[6657 rows x 20 columns] [[-1.75001159e-04 -1.17765551e-03  1.93425636e-03 ... -9.26118718e-03\n",
      "  -3.57165864e-04  2.11997580e-03]\n",
      " [-1.05682731e-04 -1.51792733e-03  8.59969904e-04 ... -8.80876541e-03\n",
      "  -5.14659996e-04  2.00187468e-03]\n",
      " [-6.69465684e-05 -1.23915442e-03  3.45394932e-04 ... -8.74155861e-03\n",
      "  -3.33122175e-04  2.17859602e-03]\n",
      " ...\n",
      " [ 1.52857803e-03  8.54190963e-04 -2.09030404e-03 ... -1.62511222e-03\n",
      "  -5.71961819e-03  4.23492150e-03]\n",
      " [ 2.00960383e-03  1.78274236e-03 -4.89738872e-04 ... -1.11845047e-03\n",
      "  -7.15405940e-03  4.31984523e-03]\n",
      " [ 1.00606851e-03  3.05540213e-04 -8.34320744e-04 ... -2.41460467e-03\n",
      "  -6.83518096e-03  4.07504411e-03]]\n"
     ]
    }
   ],
   "source": [
    "print (X, Shap_Value)"
   ]
  },
  {
   "cell_type": "code",
   "execution_count": 18,
   "id": "f66cc136",
   "metadata": {},
   "outputs": [
    {
     "name": "stdout",
     "output_type": "stream",
     "text": [
      "excel 已保存到result.xlsx\n"
     ]
    }
   ],
   "source": [
    "df = pd.DataFrame(Shap_Value)\n",
    "filename = 'result.xlsx'\n",
    "df.to_excel('{}'.format(filename))\n",
    "print('excel 已保存到{}'.format(filename))"
   ]
  },
  {
   "cell_type": "code",
   "execution_count": null,
   "id": "948847bd",
   "metadata": {},
   "outputs": [],
   "source": []
  }
 ],
 "metadata": {
  "kernelspec": {
   "display_name": "Python 3 (ipykernel)",
   "language": "python",
   "name": "python3"
  },
  "language_info": {
   "codemirror_mode": {
    "name": "ipython",
    "version": 3
   },
   "file_extension": ".py",
   "mimetype": "text/x-python",
   "name": "python",
   "nbconvert_exporter": "python",
   "pygments_lexer": "ipython3",
   "version": "3.11.5"
  }
 },
 "nbformat": 4,
 "nbformat_minor": 5
}
